{
 "cells": [
  {
   "cell_type": "code",
   "execution_count": 1,
   "metadata": {},
   "outputs": [
    {
     "name": "stdout",
     "output_type": "stream",
     "text": [
      "pygame 2.0.0 (SDL 2.0.12, python 3.7.5)\n",
      "Hello from the pygame community. https://www.pygame.org/contribute.html\n"
     ]
    }
   ],
   "source": [
    "import pygame\n",
    "import time"
   ]
  },
  {
   "cell_type": "code",
   "execution_count": 2,
   "metadata": {},
   "outputs": [],
   "source": [
    "def songplay(name):\n",
    "    pygame.init()\n",
    "    pygame.mixer.music.load(name)\n",
    "    pygame.mixer.music.play()\n",
    "    time.sleep(10)"
   ]
  },
  {
   "cell_type": "code",
   "execution_count": 3,
   "metadata": {},
   "outputs": [],
   "source": [
    "import pyttsx3 \n",
    "#initialisation\n",
    "engine = pyttsx3.init() \n",
    "sen = 'Hello, Welcome to my project. In this project, you will be able to play the song from your favourite directory. This project was made successfully only by Aditya Raj Singh(BT18cse063).'\n",
    "engine.say(sen)\n",
    "engine.runAndWait()"
   ]
  },
  {
   "cell_type": "code",
   "execution_count": 4,
   "metadata": {},
   "outputs": [
    {
     "name": "stdout",
     "output_type": "stream",
     "text": [
      "Your Song : Vidya.MP3\n"
     ]
    }
   ],
   "source": [
    "import speech_recognition as sr\n",
    "r=sr.Recognizer()\n",
    "with sr.Microphone() as source:\n",
    "    sen = '..Let me know which song you want to play? Speak Now.'\n",
    "    engine.say(sen)\n",
    "    engine.runAndWait()\n",
    "    audio = r.listen(source)\n",
    "try:\n",
    "    text = r.recognize_google(audio)\n",
    "    text = text + '.MP3'\n",
    "    print(\"Your Song : {}\".format(text))\n",
    "    sen='I recongnize evrything you said, now I am Going to play your song.'\n",
    "    engine.say(sen)\n",
    "    engine.runAndWait()\n",
    "    songplay(text)\n",
    "#     pygame.init()\n",
    "#     pygame.mixer.music.load(text)\n",
    "#     pygame.mixer.music.play()\n",
    "#     time.sleep(10)\n",
    "except:\n",
    "    sen='Sorry could not recognize what you said'\n",
    "    engine.say(sen)\n",
    "    engine.runAndWait()"
   ]
  },
  {
   "cell_type": "code",
   "execution_count": null,
   "metadata": {},
   "outputs": [],
   "source": []
  }
 ],
 "metadata": {
  "kernelspec": {
   "display_name": "Python [conda env:deeplearning] *",
   "language": "python",
   "name": "conda-env-deeplearning-py"
  },
  "language_info": {
   "codemirror_mode": {
    "name": "ipython",
    "version": 3
   },
   "file_extension": ".py",
   "mimetype": "text/x-python",
   "name": "python",
   "nbconvert_exporter": "python",
   "pygments_lexer": "ipython3",
   "version": "3.7.5"
  }
 },
 "nbformat": 4,
 "nbformat_minor": 2
}
